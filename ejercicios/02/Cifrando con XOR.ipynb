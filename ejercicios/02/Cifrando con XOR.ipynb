{
 "cells": [
  {
   "cell_type": "markdown",
   "id": "dominican-clear",
   "metadata": {},
   "source": [
    "# Cifrando con XORs\n",
    "\n",
    "Vamos a estudiar el cifrado con XORs\n",
    "\n",
    "La función siguiente cifra un texto con una clave utilizando XOR. Cuando se acaba la clave, rota y vuelve a empezar como un cifrado Vigenère.\n",
    "\n",
    "No es necesario entender la función, especialmente porque no es la mejor, ni más eficiente, ni tiene control de errores"
   ]
  },
  {
   "cell_type": "code",
   "execution_count": 1,
   "id": "assisted-motor",
   "metadata": {},
   "outputs": [],
   "source": [
    "from itertools import cycle\n",
    "\n",
    "def xor(key, data):\n",
    "    \"\"\"\n",
    "    xor de key y data. Si len(key)<len(data), reutiliza la key.\n",
    "    \n",
    "    Tanto key como data tienen que ser arrays de bytes.\n",
    "    \n",
    "    Devuelve un array de bytes\n",
    "    \"\"\"\n",
    "    output = []\n",
    "    for d, k in zip(data, cycle(key)):\n",
    "        output.append(k ^ d)\n",
    "    return ''.join(map(chr, output)).encode()      "
   ]
  },
  {
   "cell_type": "markdown",
   "id": "third-cassette",
   "metadata": {},
   "source": [
    "Como hemos visto, cifrar con XORs ofrece confidencialidad perfecta siempre que se cumplan las condiciones. Es decir. Es decir, que la clave:\n",
    "\n",
    "- Sea tan larga como el mensaje\n",
    "- No se reutilice nunca más para cifrar ningún otro mensaje (*one-time-pad*)\n",
    "\n",
    "Es decir, la función de arriba ofrece confidencialidad perfecta, y se puede demostrar matemáticamente que es imposible programar nada más seguro que esa función de arriba... si se cumplen sus condiciones de uso.\n",
    "\n",
    "Veremos qué pasa cuando no se cumplen estas condiciones.\n",
    "\n",
    "Una persona quiere enviar el texto `Tres tristes tigres` cifrado con XOR y clave  `SESAMO`\n",
    "\n",
    "(En Python, cuando ponemos `b` al inicio de una cadena, queremos que se interprete como un array de bytes, no como un texto. Será más conveniente trabajar con arrays de bytes en nuestros ejemplos)"
   ]
  },
  {
   "cell_type": "code",
   "execution_count": 2,
   "id": "novel-level",
   "metadata": {},
   "outputs": [],
   "source": [
    "data = b'TRES TRISTES TIGRES'\n",
    "key = b'SESAMO'"
   ]
  },
  {
   "cell_type": "markdown",
   "id": "streaming-belief",
   "metadata": {},
   "source": [
    "Ahora ciframos. Observa que la salida no es legible, son una series de bytes. En general, un XOR de un caracter visible no es imprimible y por eso no vemos nada"
   ]
  },
  {
   "cell_type": "code",
   "execution_count": 5,
   "id": "italian-maker",
   "metadata": {},
   "outputs": [
    {
     "name": "stdout",
     "output_type": "stream",
     "text": [
      "b'\\x07\\x17\\x16\\x12m\\x1b\\x01\\x0c\\x00\\x15\\x08\\x1cs\\x11\\x1a\\x06\\x1f\\n\\x00'\n"
     ]
    }
   ],
   "source": [
    "c = xor(key, data)\n",
    "print(c)"
   ]
  },
  {
   "cell_type": "markdown",
   "id": "dying-characterization",
   "metadata": {},
   "source": [
    "Vamos a usar base64 para poder ver algo. Recuerda: Base64 **no es un cifrado**, es una manera de codificar mensajes binarios con caracteres imprimibles. Se usa, por ejemplo, para enviar fotografías por correo electrónico (el estándar de correo electrónico solo permite enviar caracteres imprimibles).\n",
    "\n",
    "Pero Base64 no es un cifrado: no tiene clave y siempre se puede deshacer. Solo lo usamos porque es cómodo y común tener caracteres imprimibles. Esto incluso era una de los principios de Kerckhoffs que se sigue por comodidad, aunque no sea estríctamente necesario."
   ]
  },
  {
   "cell_type": "code",
   "execution_count": 6,
   "id": "reduced-flooring",
   "metadata": {},
   "outputs": [
    {
     "name": "stdout",
     "output_type": "stream",
     "text": [
      "b'BxcWEm0bAQwAFQgccxEaBh8KAA=='\n"
     ]
    }
   ],
   "source": [
    "from base64 import b64encode, b64decode\n",
    "cb = b64encode(c)\n",
    "print(cb)"
   ]
  },
  {
   "cell_type": "markdown",
   "id": "military-suspect",
   "metadata": {},
   "source": [
    "Este es el mensaje que le enviamos al a otra parte, que puede deshacerlo con el mismo algoritmo si conoce la clave"
   ]
  },
  {
   "cell_type": "code",
   "execution_count": 7,
   "id": "straight-science",
   "metadata": {},
   "outputs": [
    {
     "name": "stdout",
     "output_type": "stream",
     "text": [
      "b'TRES TRISTES TIGRES'\n"
     ]
    }
   ],
   "source": [
    "print(xor(key, b64decode(cb)))"
   ]
  },
  {
   "cell_type": "markdown",
   "id": "resistant-mobile",
   "metadata": {},
   "source": [
    "## Rompiendo XOR\n",
    "\n",
    "Fíjate en el mensaje anterior: la clave es más corta que el mensaje. Cuando la clave rota, se reutiliza para cifrar el mensaje.\n",
    "\n",
    "Eso es un error que vamos a aprovechar. **Nunca se debe reutilizar una clave**. En esa ocasión, nos pasa lo mismo que con los audiocuentos del primer día.\n",
    "\n",
    "Vamos a ver un ejemplo sencillo: el emisor envía un texto \"Envía 1000 E\" a su banco usando este protocolo sencillo y clave aleatoria.\n",
    "\n",
    "(vamos a suponer que no hay letras acentuadas. La codificación adicional que tienen los acentos nos complicaría el sistema)"
   ]
  },
  {
   "cell_type": "markdown",
   "id": "textile-circular",
   "metadata": {},
   "source": [
    "Lo que envía el cliente al su banco:"
   ]
  },
  {
   "cell_type": "code",
   "execution_count": 8,
   "id": "faced-cuisine",
   "metadata": {},
   "outputs": [
    {
     "name": "stdout",
     "output_type": "stream",
     "text": [
      "b'dCkkWwcZAHdiAkZ8'\n"
     ]
    }
   ],
   "source": [
    "k = b'1GR2f9'\n",
    "m = b'Envia 1000 E'\n",
    "c = xor(k, m)\n",
    "print(b64encode(c))"
   ]
  },
  {
   "cell_type": "markdown",
   "id": "crude-messenger",
   "metadata": {},
   "source": [
    "Supongamos que el atacante recibe $c$ porque está espiando y sabe:\n",
    "\n",
    "- que muchos mensajes al banco empiezan con \"Envia \"\n",
    "- que las claves tienen 6 letras.\n",
    "\n",
    "Esto es razonable, ¿no? Estas suposiciones ni siquiera son demasiado exigentes. En realidad el atacante puede probar con claves de 5 letras, o con 7, o con otros encabezados (\"transfiere...\") hasta que le salga un mensaje coherente.\n",
    "\n",
    "Para descifrarlo:\n",
    "\n",
    "- El atacante toma el mensaje cifrado y lo corta en grupos tan grandes como supone que es la clave. Es decir, de 6 letras cada uno: c1 y c2\n",
    "- Hace XOR con el mensaje que ha supuesto: \"Envia \"\n",
    "\n",
    "Fíjate que en ninguna de estas líneas que ejecuta el atacante está la clave, solo utiliza cosas que sabe porque están en canales inseguros: el texto cifrado $c$"
   ]
  },
  {
   "cell_type": "code",
   "execution_count": 9,
   "id": "coordinate-sharp",
   "metadata": {
    "scrolled": true
   },
   "outputs": [
    {
     "name": "stdout",
     "output_type": "stream",
     "text": [
      "b'1000 E'\n"
     ]
    }
   ],
   "source": [
    "c1 = c[:6]\n",
    "c2 = c[6:]\n",
    "print(xor(b'Envia ', xor(c1, c2)))"
   ]
  },
  {
   "cell_type": "markdown",
   "id": "organized-compensation",
   "metadata": {},
   "source": [
    "¡Y aparece la otra parte del mensaje! En ese momento SABE que sus suposiciones son buenas, así que puede sacar la clave con `Envia ` y c1"
   ]
  },
  {
   "cell_type": "code",
   "execution_count": 10,
   "id": "ahead-gateway",
   "metadata": {},
   "outputs": [
    {
     "name": "stdout",
     "output_type": "stream",
     "text": [
      "b'1GR2f9'\n"
     ]
    }
   ],
   "source": [
    "print(xor(b'Envia ', c1))"
   ]
  },
  {
   "cell_type": "markdown",
   "id": "chemical-direction",
   "metadata": {},
   "source": [
    "Lo vamos a repetir muchas veces en este curso: **no se puede cifrar dos veces con la misma clave**"
   ]
  },
  {
   "cell_type": "markdown",
   "id": "macro-savage",
   "metadata": {},
   "source": [
    "Veamos otro ejemplo: el usuario envía dos mensaje cifrados con la misma clave: un saludo y una orden"
   ]
  },
  {
   "cell_type": "code",
   "execution_count": 11,
   "id": "happy-satin",
   "metadata": {},
   "outputs": [],
   "source": [
    "k = b'1GR2f9'\n",
    "m1 = b'Hola Jose Antonio'\n",
    "c1 = xor(k, m1)\n",
    "m2 = b'Tienes que ejecutar compra de 1000 acciones de SANTACO a las 14h'"
   ]
  },
  {
   "cell_type": "markdown",
   "id": "educational-story",
   "metadata": {},
   "source": [
    "Supongamos que las comunicaciones usan un protocolo inventado que necesita que los mensajes tengan obligatoriamente 64 bytes, y si no los tiene rellena con ceros"
   ]
  },
  {
   "cell_type": "code",
   "execution_count": 12,
   "id": "detected-animation",
   "metadata": {},
   "outputs": [
    {
     "name": "stdout",
     "output_type": "stream",
     "text": [
      "b'Hola Jose Antonio\\x00\\x00\\x00\\x00\\x00\\x00\\x00\\x00\\x00\\x00\\x00\\x00\\x00\\x00\\x00\\x00\\x00\\x00\\x00\\x00\\x00\\x00\\x00\\x00\\x00\\x00\\x00\\x00\\x00\\x00\\x00\\x00\\x00\\x00\\x00\\x00\\x00\\x00\\x00\\x00\\x00\\x00\\x00\\x00\\x00\\x00\\x00'\n",
      "b'Tienes que ejecutar compra de 1000 acciones de SANTACO a las 14h'\n"
     ]
    }
   ],
   "source": [
    "m1relleno = m1 + (b'\\x00' * (64 - len(m1)))\n",
    "print(m1relleno)\n",
    "m2relleno = m2 + (b'\\x00' * (64 - len(m2)))\n",
    "print(m2relleno)"
   ]
  },
  {
   "cell_type": "markdown",
   "id": "secondary-centre",
   "metadata": {},
   "source": [
    "Ahora nuestro usuario está prevenido, así que usa una clave de 64 bytes, que son 512 bits, totalmente aleatoria y ha leído que eso es muy segura por ser de 512 bits y por ser aleatoria."
   ]
  },
  {
   "cell_type": "code",
   "execution_count": 13,
   "id": "congressional-linux",
   "metadata": {},
   "outputs": [
    {
     "name": "stdout",
     "output_type": "stream",
     "text": [
      "512\n"
     ]
    }
   ],
   "source": [
    "k = b'1292jfmfiw8222aR2Xv3v395u5k202931292jJmfAw81L2aa2aa3Z325u5k2M292'\n",
    "print(len(k) * 8)"
   ]
  },
  {
   "cell_type": "markdown",
   "id": "controversial-america",
   "metadata": {},
   "source": [
    "Y cifra los dos mensajes con esa clave"
   ]
  },
  {
   "cell_type": "code",
   "execution_count": 14,
   "id": "controlled-grill",
   "metadata": {},
   "outputs": [
    {
     "name": "stdout",
     "output_type": "stream",
     "text": [
      "b'eV1VU0osAhUMV3lcRl0PO11YdjN2Mzk1dTVrMjAyOTMxMjkyakptZkF3ODFMMmFhMmFhM1ozMjV1NWsyTTI5Mg=='\n",
      "b'ZVtcXA8VTRccEhhXWFcCJ0Y5BBMVXFRFB1RLVlUSCAMBAhlTCSkECS8SSxEoV0Eycy81chl8ElRVWQpBbQMNWg=='\n"
     ]
    }
   ],
   "source": [
    "c1 = xor(k, m1relleno)\n",
    "print(b64encode(c1))\n",
    "c2 = xor(k, m2relleno)\n",
    "print(b64encode(c2))"
   ]
  },
  {
   "cell_type": "markdown",
   "id": "surface-cargo",
   "metadata": {},
   "source": [
    "El atacante supongamos que no tiene forma de adivinar el primer mensaje pero sabe que es algún tipo de saludo poco interesante (\"hola\", \"buenas\", \"Tengo un asunto urgente\"...), y que el segundo mensaje es donde está la información aunque tampoco puede adivinar nada de ese mensaje.\n",
    "\n",
    "Dada la diferencia en tamaño de los mensajes, y que sabe que el primero estará rellano con ceros... solo tiene que hacer XOR de los dos textos que recibe cifrados para ver la parte del mensaje que le interesa:"
   ]
  },
  {
   "cell_type": "code",
   "execution_count": 15,
   "id": "annual-salvation",
   "metadata": {},
   "outputs": [
    {
     "name": "stdout",
     "output_type": "stream",
     "text": [
      "b'\\x1c\\x06\\t\\x0fE9O\\x02\\x10Ea\\x0b\\x1e\\n\\r\\x1c\\x1bar compra de 1000 acciones de SANTACO a las 14h'\n"
     ]
    }
   ],
   "source": [
    "print(xor(c1, c2))"
   ]
  },
  {
   "cell_type": "markdown",
   "id": "exempt-packaging",
   "metadata": {},
   "source": [
    "Esto no solo pasa con este cifrado simple sino con cualquier cifrado simétrico, aunque no siempre es tan evidente.\n",
    "\n",
    "**NUNCA HAY QUE REUTILIZAR LA CLAVE DE CIFRADO EN DOS MENSAJE DIFERENTES**"
   ]
  }
 ],
 "metadata": {
  "kernelspec": {
   "display_name": "Python 3",
   "language": "python",
   "name": "python3"
  },
  "language_info": {
   "codemirror_mode": {
    "name": "ipython",
    "version": 3
   },
   "file_extension": ".py",
   "mimetype": "text/x-python",
   "name": "python",
   "nbconvert_exporter": "python",
   "pygments_lexer": "ipython3",
   "version": "3.8.2"
  }
 },
 "nbformat": 4,
 "nbformat_minor": 5
}
