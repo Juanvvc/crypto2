{
 "cells": [
  {
   "cell_type": "code",
   "execution_count": 1,
   "id": "appreciated-residence",
   "metadata": {},
   "outputs": [],
   "source": [
    "import random"
   ]
  },
  {
   "cell_type": "markdown",
   "id": "horizontal-public",
   "metadata": {},
   "source": [
    "# Algoritmos de Euclides"
   ]
  },
  {
   "cell_type": "markdown",
   "id": "bored-promotion",
   "metadata": {},
   "source": [
    "Antes de empezar necesitaremos un sistema para cálculo del máximo común divisor (mcd en castellano, gcd en inglés) de dos números, y el inverso de un número en un anillo cíclico. Ambas cosas se conocen desde hace tiempo: son dos \"algoritmos de Euclides\""
   ]
  },
  {
   "cell_type": "markdown",
   "id": "modern-baseline",
   "metadata": {},
   "source": [
    "Algoritmo de Euclides para determinar el máximo común divisor (gcd) de dos enteros a yb"
   ]
  },
  {
   "cell_type": "code",
   "execution_count": 2,
   "id": "outer-parish",
   "metadata": {},
   "outputs": [
    {
     "name": "stdout",
     "output_type": "stream",
     "text": [
      "gcd(2, 3) =  1\n",
      "gcd(20, 30) =  10\n",
      "gcd(50720, 48184) =  2536\n"
     ]
    }
   ],
   "source": [
    "def gcd(a, b):\n",
    "    while b != 0:\n",
    "        a, b = b, a % b\n",
    "    return a\n",
    "\n",
    "print('gcd(2, 3) = ', gcd(2, 3))\n",
    "print('gcd(20, 30) = ', gcd(20, 30))\n",
    "print('gcd(50720, 48184) = ', gcd(50720, 48184))\n"
   ]
  },
  {
   "cell_type": "markdown",
   "id": "multiple-triangle",
   "metadata": {},
   "source": [
    "Algoritmo generalizado de Euclides para encontrar el inverso multiplicativos de un número en un anillo cíclico $\\mathbb{Z}_{\\phi}$"
   ]
  },
  {
   "cell_type": "code",
   "execution_count": 3,
   "id": "bright-episode",
   "metadata": {},
   "outputs": [
    {
     "name": "stdout",
     "output_type": "stream",
     "text": [
      "3^{-1} mod 10 =  7\n",
      "2^{-1} mod 10 =  None\n",
      "25^{-1} mod 119 =  100\n"
     ]
    }
   ],
   "source": [
    "def multiplicative_inverse(e, phi):\n",
    "    d = 0\n",
    "    x1 = 0\n",
    "    x2 = 1\n",
    "    y1 = 1\n",
    "    temp_phi = phi\n",
    "    \n",
    "    while e > 0:\n",
    "        temp1 = temp_phi // e\n",
    "        temp2 = temp_phi - temp1 * e\n",
    "        temp_phi = e\n",
    "        e = temp2\n",
    "        \n",
    "        x = x2 - temp1 * x1\n",
    "        y = d - temp1 * y1\n",
    "        \n",
    "        x2 = x1\n",
    "        x1 = x\n",
    "        d = y1\n",
    "        y1 = y\n",
    "\n",
    "    if temp_phi == 1:\n",
    "        return d + phi\n",
    "    # no inverse: return None\n",
    "    return None\n",
    "\n",
    "print('3^{-1} mod 10 = ', multiplicative_inverse(3, 10))\n",
    "print('2^{-1} mod 10 = ', multiplicative_inverse(2, 10))\n",
    "print('25^{-1} mod 119 = ', multiplicative_inverse(25, 119))"
   ]
  },
  {
   "cell_type": "code",
   "execution_count": 4,
   "id": "least-eligibility",
   "metadata": {},
   "outputs": [
    {
     "name": "stdout",
     "output_type": "stream",
     "text": [
      "2:  True\n",
      "5:  True\n",
      "19:  True\n",
      "25:  False\n",
      "222:  False\n",
      "314:  False\n",
      "317:  True\n"
     ]
    }
   ],
   "source": [
    "def is_prime(num):\n",
    "    if num == 2:\n",
    "        return True\n",
    "    if num < 2 or num % 2 == 0:\n",
    "        return False\n",
    "    for n in range(3, int(num**0.5)+2, 2):\n",
    "        if num % n == 0:\n",
    "            return False\n",
    "    return True\n",
    "\n",
    "for i in [2, 5, 19, 25, 222, 314, 317]:\n",
    "    print(f'{i}: ', is_prime(i))"
   ]
  },
  {
   "cell_type": "markdown",
   "id": "fifty-deadline",
   "metadata": {},
   "source": [
    "# RSA\n",
    "\n",
    "RSA son unas pocas funciones sencillas:\n",
    "\n",
    "- Generación de claves\n",
    "- Cifrado y descifrado son iguales (y simplemente es una potencia)"
   ]
  },
  {
   "cell_type": "code",
   "execution_count": 5,
   "id": "ranging-portable",
   "metadata": {},
   "outputs": [],
   "source": [
    "def generate_keypair(p, q):\n",
    "    if not (is_prime(p) and is_prime(q)):\n",
    "        raise ValueError('Both numbers must be prime.')\n",
    "    elif p == q:\n",
    "        raise ValueError('p and q cannot be equal')\n",
    "    #n = pq\n",
    "    n = p * q\n",
    "\n",
    "    #Phi is the totient of n\n",
    "    phi = (p - 1) * (q - 1)\n",
    "\n",
    "    # Choose an integer e such that e and phi(n) are coprime\n",
    "    e = random.randrange(1, phi)\n",
    "\n",
    "    # Use Euclid's Algorithm to verify that e and phi(n) are coprime\n",
    "    g = gcd(e, phi)\n",
    "    while g != 1:\n",
    "        e = random.randrange(1, phi)\n",
    "        g = gcd(e, phi)\n",
    "\n",
    "    #Use Extended Euclid's Algorithm to generate the private key\n",
    "    d = multiplicative_inverse(e, phi)\n",
    "    \n",
    "    #Return public and private keypair\n",
    "    #Public key is (e, n) and private key is (d, n)\n",
    "    return ((e, n), (d, n))\n",
    "\n",
    "def encrypt(pk, number):\n",
    "    # Unpack the key into it's components\n",
    "    key, n = pk\n",
    "    return (number ** key) % n\n",
    "\n",
    "decrypt = encrypt"
   ]
  },
  {
   "cell_type": "code",
   "execution_count": 6,
   "id": "electoral-hypothetical",
   "metadata": {},
   "outputs": [
    {
     "name": "stdout",
     "output_type": "stream",
     "text": [
      "Publickey (e, n): (109, 391) Private-key (d, n): (197, 391)\n"
     ]
    }
   ],
   "source": [
    "pk, sk = generate_keypair(17, 23)\n",
    "print(f'Publickey (e, n): {pk} Private-key (d, n): {sk}')"
   ]
  },
  {
   "cell_type": "markdown",
   "id": "backed-burns",
   "metadata": {},
   "source": [
    "Fíjate: si generamos otro par de claves, aunque usemos los mismos primos, obtendremos unas claves diferentes. Eso es porque el parámetro $e$ se escoge al azar"
   ]
  },
  {
   "cell_type": "code",
   "execution_count": 7,
   "id": "dressed-chaos",
   "metadata": {},
   "outputs": [
    {
     "name": "stdout",
     "output_type": "stream",
     "text": [
      "Publickey: (317, 391) Private-key: (181, 391)\n"
     ]
    }
   ],
   "source": [
    "pk, sk = generate_keypair(17, 23)\n",
    "print(f'Publickey: {pk} Private-key: {sk}')"
   ]
  },
  {
   "cell_type": "markdown",
   "id": "fabulous-strap",
   "metadata": {},
   "source": [
    "Vamos a intentar cifrar un texto sencillo:"
   ]
  },
  {
   "cell_type": "code",
   "execution_count": 8,
   "id": "centered-miracle",
   "metadata": {},
   "outputs": [
    {
     "ename": "TypeError",
     "evalue": "unsupported operand type(s) for ** or pow(): 'str' and 'int'",
     "output_type": "error",
     "traceback": [
      "\u001b[0;31m---------------------------------------------------------------------------\u001b[0m",
      "\u001b[0;31mTypeError\u001b[0m                                 Traceback (most recent call last)",
      "Input \u001b[0;32mIn [8]\u001b[0m, in \u001b[0;36m<module>\u001b[0;34m\u001b[0m\n\u001b[0;32m----> 1\u001b[0m \u001b[38;5;28mprint\u001b[39m(\u001b[43mencrypt\u001b[49m\u001b[43m(\u001b[49m\u001b[43mpk\u001b[49m\u001b[43m,\u001b[49m\u001b[43m \u001b[49m\u001b[38;5;124;43m'\u001b[39;49m\u001b[38;5;124;43mhola\u001b[39;49m\u001b[38;5;124;43m'\u001b[39;49m\u001b[43m)\u001b[49m)\n",
      "Input \u001b[0;32mIn [5]\u001b[0m, in \u001b[0;36mencrypt\u001b[0;34m(pk, number)\u001b[0m\n\u001b[1;32m     28\u001b[0m \u001b[38;5;28;01mdef\u001b[39;00m \u001b[38;5;21mencrypt\u001b[39m(pk, number):\n\u001b[1;32m     29\u001b[0m     \u001b[38;5;66;03m# Unpack the key into it's components\u001b[39;00m\n\u001b[1;32m     30\u001b[0m     key, n \u001b[38;5;241m=\u001b[39m pk\n\u001b[0;32m---> 31\u001b[0m     \u001b[38;5;28;01mreturn\u001b[39;00m (\u001b[43mnumber\u001b[49m\u001b[43m \u001b[49m\u001b[38;5;241;43m*\u001b[39;49m\u001b[38;5;241;43m*\u001b[39;49m\u001b[43m \u001b[49m\u001b[43mkey\u001b[49m) \u001b[38;5;241m%\u001b[39m n\n",
      "\u001b[0;31mTypeError\u001b[0m: unsupported operand type(s) for ** or pow(): 'str' and 'int'"
     ]
    }
   ],
   "source": [
    "print(encrypt(pk, 'hola'))"
   ]
  },
  {
   "cell_type": "markdown",
   "id": "described-tumor",
   "metadata": {},
   "source": [
    "No podemos: RSA solo puede cifrar enteros. Una posibilidad es codificar el mensaje como un conjunto de enteros"
   ]
  },
  {
   "cell_type": "code",
   "execution_count": 9,
   "id": "elegant-database",
   "metadata": {},
   "outputs": [
    {
     "name": "stdout",
     "output_type": "stream",
     "text": [
      "[372, 263, 146, 218]\n"
     ]
    }
   ],
   "source": [
    "print([encrypt(pk, ord(c)) for c in 'hola'])"
   ]
  },
  {
   "cell_type": "markdown",
   "id": "brave-thesis",
   "metadata": {},
   "source": [
    "¿Qué pasa si intentamos cifrar varias veces lo mismo?"
   ]
  },
  {
   "cell_type": "code",
   "execution_count": 10,
   "id": "electric-victorian",
   "metadata": {},
   "outputs": [
    {
     "name": "stdout",
     "output_type": "stream",
     "text": [
      "[218, 218, 218, 218]\n"
     ]
    }
   ],
   "source": [
    "print([encrypt(pk, ord(c)) for c in 'aaaa'])"
   ]
  },
  {
   "cell_type": "markdown",
   "id": "sexual-multiple",
   "metadata": {},
   "source": [
    "Pocas veces querremos eso. RSA debe usarse siguiendo recomendaciones como PKCS#1"
   ]
  },
  {
   "cell_type": "markdown",
   "id": "focused-hygiene",
   "metadata": {},
   "source": [
    "# (semi) Homorfismo\n",
    "\n",
    "RSA es semihomomórfico con la multiplicación: se pueden hacer cálculos con los números cifrados, aunque no sepas lo que son ni qué resultado tienes. Al descifrar, el resultado es correcto.\n",
    "\n",
    "Por ejemplo, vamos a multiplicar los mensajes cifrados c1 y c2, que son los cifrados de 5 y 2 respectivamente"
   ]
  },
  {
   "cell_type": "code",
   "execution_count": 11,
   "id": "german-disabled",
   "metadata": {},
   "outputs": [
    {
     "name": "stdout",
     "output_type": "stream",
     "text": [
      "encrypt(pk, 5) = 241\n",
      "decrypt(sk, 241) = 5\n"
     ]
    }
   ],
   "source": [
    "m1 = 5\n",
    "c1 = encrypt(pk, m1)\n",
    "print(f'encrypt(pk, {m1}) = {c1}')\n",
    "print(f'decrypt(sk, {c1}) = {decrypt(sk, c1)}')\n"
   ]
  },
  {
   "cell_type": "code",
   "execution_count": 12,
   "id": "continued-excitement",
   "metadata": {},
   "outputs": [
    {
     "name": "stdout",
     "output_type": "stream",
     "text": [
      "encrypt(pk, 2) = 236\n",
      "decrypt(sk, 236) = 2\n"
     ]
    }
   ],
   "source": [
    "m2 = 2\n",
    "c2 = encrypt(pk, m2)\n",
    "print(f'encrypt(pk, {m2}) = {c2}')\n",
    "print(f'decrypt(sk, {c2}) = {decrypt(sk, c2)}')"
   ]
  },
  {
   "cell_type": "code",
   "execution_count": 13,
   "id": "shaped-merchant",
   "metadata": {},
   "outputs": [
    {
     "name": "stdout",
     "output_type": "stream",
     "text": [
      "c1 = 241; c2 = 236; cm = 56876\n"
     ]
    }
   ],
   "source": [
    "cm = c1 * c2\n",
    "print(f\"c1 = {c1}; c2 = {c2}; cm = {cm}\")"
   ]
  },
  {
   "cell_type": "markdown",
   "id": "universal-hopkins",
   "metadata": {},
   "source": [
    "Un atacante no sabe cuánto vale c1 ni c2, ni sabe qué valor tiene cm, pero sabe que, sea lo que sea, ha multiplicado c1 y c2 y cuando se descifre el resultado va a ser correcto"
   ]
  },
  {
   "cell_type": "code",
   "execution_count": 14,
   "id": "overhead-machinery",
   "metadata": {},
   "outputs": [
    {
     "name": "stdout",
     "output_type": "stream",
     "text": [
      "decrypt(sk, c1 * c2) = m1 * m2 = 5 * 2 = 10\n"
     ]
    }
   ],
   "source": [
    "print(f'decrypt(sk, c1 * c2) = m1 * m2 = {m1} * {m2} = {decrypt(sk, cm)}')"
   ]
  },
  {
   "cell_type": "markdown",
   "id": "enhanced-percentage",
   "metadata": {},
   "source": [
    "Según la utilidad, el semihomorfismo puede ser útil o no:\n",
    "\n",
    "- Sistemas PET (private enhanced technologies) necesitas calcular sin descifrar. Por ejemplo, voto electrónico\n",
    "- Pero en general no querremos que un atacante pueda multiplicar una orden de pago por otro número y que el resultado sea válido: recomendaciones PKCS#1"
   ]
  },
  {
   "cell_type": "markdown",
   "id": "convenient-month",
   "metadata": {},
   "source": [
    "# PyCryptoDome\n",
    "\n",
    "La función de arriba solo sirve para ver cómo funciona RSA a alto nivel. Veamos ahora cómo de grandes son los números involucrados en estos cifrados. Ojo: ¡mide cuánto tiempo necesitamos para generar las claves!"
   ]
  },
  {
   "cell_type": "code",
   "execution_count": 15,
   "id": "assisted-operation",
   "metadata": {},
   "outputs": [
    {
     "data": {
      "text/plain": [
       "RsaKey(n=23542220262221135616479100277313313630398447228011535524355261249556050320357446526199986671623317083015079297435395105318406319798285043202615732844604669012772888224996385954876260616814458993540889067041712057508582987594294192257619868896218760956265305186773335938633837822955878861748265321377224012340766704186061648292220754031533679429871963254204719040307990190761876427269492545273003298567735640008189806818265147872704346458892248805289560824583055798955352206016125425960454101290377403869198950673992163578904588982969295028654089046022630879449599759805035480844756855425421517041147305379459069078967, e=65537, d=3576756445228433515926612470226111415198702092700472392938421597903925920316753819390165361389037767910968530212921388889564241973717505762675204112695556546075951722786960265997877946223073503497057119497906937403496663067830191682700169897914921385500307364461328805727712943881649844003043743304591596973830465386208881148575554805740620443981548631532788564611628207349720777422235665707174780097222836715950409153090258167807301394590924085389238094952391441555419981564657711807118838287094588534204438553657162844312273870433732544200891184217240912794890424868763888730369292987393449563848149745821585998913, p=132969006767568351351789567204534270997231423246725187278171829203625959995504971498830056258838691694080695758149820947890426260615000140245068648549498886853098475506535660478853133992669059929990738588659905315443083572110777886814742481085253403741045924382262591521375651373139446164148808183013057229537, q=177050433289114204784186388219569781028116116911156034514976760164391816081755091756385398256301482827191167435923677879560619857079559422887768561602013484843284228470524539138008790455153553463547240960392067309590510869669852910716136206391096698181313323760205953928963974513786087742930385326213082090391, u=9656212103642363280931805588402498579098695280651651670034727616373828426968386540280383162839196346240952174584997424726084302328569017498125452683486376216792845205556718216384729509855488727289480358685794605942753064690543936333433227145103966815319850197978462559317662836671878890466546899931476216818)"
      ]
     },
     "execution_count": 15,
     "metadata": {},
     "output_type": "execute_result"
    }
   ],
   "source": [
    "# Clave de 2048 bits\n",
    "from Crypto.PublicKey import RSA\n",
    "key2048 = RSA.generate(2048)\n",
    "key2048"
   ]
  },
  {
   "cell_type": "code",
   "execution_count": 16,
   "id": "corrected-handbook",
   "metadata": {},
   "outputs": [
    {
     "data": {
      "text/plain": [
       "RsaKey(n=981114202891744722337358861448217864299200568236522341363557315520894977670984259431079880793606156191761396684053030600765719964892844151991223474457753331532005757097965034946231231682195836226649168665022843504339586399007620448630408167296615201750712917132802741597750742775395703899748496351369009211520709904989686494299707399792897030785234121570333740584887111385930251252808936912221040559491570203119981469145041480000202444350144958740506209538276019432506022562990372376608630267756302010928416715418801275453977277204914296382942965980437161670444161076592979260531604251070527580427256902883753106846913613398462051838080216658502441532463223416732579175111162149986293649322295330062642303226331475638993032345117798772128607700603697012413220000757704254937119295858816513051463401294118165229033947032643411903978242814661048132541228647236744125465254607280621244377957877754491749706890148044089950310647582864077149241234126449354937996045470335960448315590358520632778295956371076570987645362134968042390608514088304733944671817410434521214318357781044521304037455060355232014197778107099909474212455349194184984679435220578529366276176695340618514376204048761626082382645048528968996137819575257040422671596901, e=65537, d=169041858804993491744401970242121459163533546185891193495154619795429541543194478102917378640328399441206063002687883306928854210805785631830063897763222853980599142586797483610084479154484258261932431302520281568276340459908056490239443542168111978033303516823082004935172527728368317736698126000207074015658162199515804697682358378192646063252348557185129255462553962494347893778841041142844071818020949049255840986835200301078662220592806343559487175054607751993942351347721844718000068676105668908126721538159058994188129574437014068483178910174551800056338218957789016487863462506706526539302828602669295499400917483545234960777363789905481748499210944963632675872393691893136073062828358601075579166058337916022355169782263626130379401367299403782641904663281687069311024507676622781538199664834237127807603880613150216080960023208818102584642479354223480365673156318782778745935033221946676743900757301176745265551704934944478517783754921008328880960358922148223197564407824981601243572681227421592936293187223749255591303736670514865562380394519604101211528184645260233177274264135850512014184131976221181173836766629899695273328354615191871757088615938887883752485632012264820895014285757507147558283955324045246687098956001, p=30426897140294475030181040874784274976733877621607572332445013509405203630883511121675265699496257275791965684590227837763456251186833288998461345968324053728537961384059452342134765725998531564693816783387415688036974420258291636593280054421114095628834633787735817624941410618725122473368171136234982466024034182869792568924321857731850111037609809536886536114358819603253974167307028596247495748090288738686471292789513261005316363608443398420586863317768560154143779442046028223580915348047013942921170797959231027332309474697788214629502430362792057616162192274159257634346119745199723986860068142746896280893217, q=32244963999054994852838634382602116096740378742146695296228983581294731822247372447710296457887357991062933774109498828033110144154081098666379889983931492068136925095978108494747951950310290991420917218146937717668012164295643861527759566513751868778865062689248198480669641646417875709273632123357040733052151735978439985884205537193980660791713265980875855806451064263682001262165956099143732175553492821211408194338795657909645805994406471955737150176834984176526088780907117676986516946791062725061942365680338496668278231914376385838307733050070574221828985338214760493312262434803918927979891735514140342989253, u=23314566129469736957332879616606663150640390600710615459344639423742504307361147485600280412461056431331329744512798217842370903509716565400345233082299276284066125618046829202249881422993322973602137943706538845361265895037751643171704800849134934631362042028708611109197620927558903307311692992252580774410197532936635598048262843799615097087645432007906490480778844570642655067857994117169796237973640032930457801932062679780861658033153473647784402354193994559285781125408774550290580818111034854571766580698488652242355279334474935812354085907740610812279167660915538626472593021220943601532833215029335259618425)"
      ]
     },
     "execution_count": 16,
     "metadata": {},
     "output_type": "execute_result"
    }
   ],
   "source": [
    "key4096 = RSA.generate(4096)\n",
    "key4096"
   ]
  },
  {
   "cell_type": "markdown",
   "id": "patient-speech",
   "metadata": {},
   "source": [
    "# Ejercicios\n",
    "\n",
    "Hemos visto cómo crear claves con PyCryptoDrome, pero no cómo usarlo para cifrar o descifrar.\n",
    "\n",
    "Recuerda de las transparencias que no es recomendable utilizar RSA \"de forma pura\", es decir, sin tener en cuenta muchas consideraciones sobre padding, conversiones, longitudes... que se recogen en [PKCS#1](https://en.wikipedia.org/wiki/PKCS_1). De hecho, PyCryptoDome no nos va a dejar utilizar el cifrado y descifrado directamente.\n",
    "\n",
    "Observa que la línea siguiente da un error, avisando que uses el módulo  `Crypto.Cipher.PKCS1_OAEP`"
   ]
  },
  {
   "cell_type": "code",
   "execution_count": 19,
   "id": "united-museum",
   "metadata": {},
   "outputs": [
    {
     "ename": "NotImplementedError",
     "evalue": "Use module Crypto.Cipher.PKCS1_OAEP instead",
     "output_type": "error",
     "traceback": [
      "\u001b[0;31m---------------------------------------------------------------------------\u001b[0m",
      "\u001b[0;31mNotImplementedError\u001b[0m                       Traceback (most recent call last)",
      "Input \u001b[0;32mIn [19]\u001b[0m, in \u001b[0;36m<module>\u001b[0;34m\u001b[0m\n\u001b[0;32m----> 1\u001b[0m \u001b[43mkey2048\u001b[49m\u001b[38;5;241;43m.\u001b[39;49m\u001b[43mencrypt\u001b[49m\u001b[43m(\u001b[49m\u001b[38;5;124;43mb\u001b[39;49m\u001b[38;5;124;43m'\u001b[39;49m\u001b[38;5;124;43mhola\u001b[39;49m\u001b[38;5;124;43m'\u001b[39;49m\u001b[43m,\u001b[49m\u001b[43m \u001b[49m\u001b[38;5;28;43;01mNone\u001b[39;49;00m\u001b[43m)\u001b[49m\n",
      "File \u001b[0;32m/opt/homebrew/lib/python3.9/site-packages/Crypto/PublicKey/RSA.py:379\u001b[0m, in \u001b[0;36mRsaKey.encrypt\u001b[0;34m(self, plaintext, K)\u001b[0m\n\u001b[1;32m    378\u001b[0m \u001b[38;5;28;01mdef\u001b[39;00m \u001b[38;5;21mencrypt\u001b[39m(\u001b[38;5;28mself\u001b[39m, plaintext, K):\n\u001b[0;32m--> 379\u001b[0m     \u001b[38;5;28;01mraise\u001b[39;00m \u001b[38;5;167;01mNotImplementedError\u001b[39;00m(\u001b[38;5;124m\"\u001b[39m\u001b[38;5;124mUse module Crypto.Cipher.PKCS1_OAEP instead\u001b[39m\u001b[38;5;124m\"\u001b[39m)\n",
      "\u001b[0;31mNotImplementedError\u001b[0m: Use module Crypto.Cipher.PKCS1_OAEP instead"
     ]
    }
   ],
   "source": [
    "key2048.encrypt(b'hola', None)"
   ]
  },
  {
   "cell_type": "markdown",
   "id": "macro-farmer",
   "metadata": {},
   "source": [
    "**Aunque no se debe**, vamos a utilizar la función `_encrypt()`, que no está documentada pero la puedes encontrar en el código: https://github.com/Legrandin/pycryptodome/blob/master/lib/Crypto/PublicKey/RSA.py#L147"
   ]
  },
  {
   "cell_type": "code",
   "execution_count": 18,
   "id": "quick-delay",
   "metadata": {},
   "outputs": [
    {
     "name": "stdout",
     "output_type": "stream",
     "text": [
      "Cifrado: 10283644035387406808090093039379336170236811409579305519990899975943492837953240810693478045731816113599744677338249835608819177402646578683657880000245032029824733824053379706225221449749089351992202068237017268982431780082529701497492940112802734570593977889830136302202367862567040155970733883651667901995332250788449987995771894091253725069719180239209062109690441973737726864948350166705667163379780216433298345886352896831909803940088273159646544162997678475140330129508335990967468467048730943124935320865613135393861906374548234032551806888147949495767548265549131518317881335880307148866336588943391188471731\n",
      "Descifrado: 15\n"
     ]
    }
   ],
   "source": [
    "c = key2048._encrypt(15)\n",
    "d = key2048._decrypt(c)\n",
    "print(f\"Cifrado: {c}\")\n",
    "print(f\"Descifrado: {d}\")"
   ]
  },
  {
   "cell_type": "markdown",
   "id": "polish-session",
   "metadata": {},
   "source": [
    "Usando estas funciones `_encrypt()` y `_decrypt()` para cifrar cadenas:\n",
    "\n",
    "1. Una posibilidad es cifrar cada caracter por separado y cifrarlos también por separado, como hemos hecho antes. ¿Cuándo ocupa el cifrado, en bytes?\n",
    "1. Otra posibilidad es codificar la cadena como un enorme entero, es decir, cada caracter representa un byte de un número entero: `msg = int.from_bytes(b\"hola mundo\", \"big\")` ¿Cuánto ocupa el cifrado, en bytes?\n",
    "1. ¿Puedes probar el método anterior para cifrar una cadena realmente larga, como `msg = int.from_bytes(b\"hola mundo\" * 1000, \"big\")` ? ¿Por qué crees que no funciona? ¿Cómo lo harías?"
   ]
  },
  {
   "cell_type": "markdown",
   "id": "documented-hepatitis",
   "metadata": {},
   "source": [
    "Vamos a hacer las cosas bien: cifra `\"hola mundo\"` y `\"hola mundo\" * 1000` usando PKCS1. Encontrarás en ejemplo en la documentación de pyCryptoDome: https://pycryptodome.readthedocs.io/en/latest/src/cipher/oaep.html"
   ]
  },
  {
   "cell_type": "markdown",
   "id": "ordinary-devil",
   "metadata": {},
   "source": [
    "## Cifrado híbrido\n",
    "\n",
    "En el tema de TLS veremos un cifrado híbrido: ciframos con RSA la clave AES que usamos para cifrar el texto.\n",
    "1. Bob: Crea par de claves RSA\n",
    "1. Alice: Crea clave simétrica AES. Cifra la clave AES con la clave pública de Bob. Envía mensaje\n",
    "1. Alice: cifra \"hola mundo\" con clave AES. Envía mensaje\n",
    "1. Bob: descifra clave AES con clave privada. Descifra mensaje de Alice\n",
    "\n",
    "Entre los ejemplos de RSA precisamente verás algo así: https://pycryptodome.readthedocs.io/en/latest/src/examples.html#encrypt-data-with-rsa\n",
    "\n",
    "- ¿Puedes hacer cifrado híbrido del mensaje \"hola mundo\"?\n",
    "- ¿Se te ocurre por qué es necesario el cifrado híbrido?"
   ]
  },
  {
   "cell_type": "code",
   "execution_count": null,
   "id": "emerging-lighter",
   "metadata": {},
   "outputs": [],
   "source": []
  }
 ],
 "metadata": {
  "kernelspec": {
   "display_name": "Python 3 (ipykernel)",
   "language": "python",
   "name": "python3"
  },
  "language_info": {
   "codemirror_mode": {
    "name": "ipython",
    "version": 3
   },
   "file_extension": ".py",
   "mimetype": "text/x-python",
   "name": "python",
   "nbconvert_exporter": "python",
   "pygments_lexer": "ipython3",
   "version": "3.9.12"
  }
 },
 "nbformat": 4,
 "nbformat_minor": 5
}
