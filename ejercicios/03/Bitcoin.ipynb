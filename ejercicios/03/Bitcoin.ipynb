{
 "cells": [
  {
   "cell_type": "markdown",
   "id": "f553377b-b47b-4516-9553-a2adec12ef69",
   "metadata": {},
   "source": [
    "# Bitcoin"
   ]
  },
  {
   "cell_type": "markdown",
   "id": "b232b2b3-7cd4-4802-ba0c-b597b4cae888",
   "metadata": {},
   "source": [
    "En este ejercicio veremos los conceptos de bitcoin que están más relacionados con criptografía"
   ]
  },
  {
   "cell_type": "code",
   "execution_count": null,
   "id": "1275c27e-18be-4317-9c23-65a39e3f1398",
   "metadata": {},
   "outputs": [],
   "source": [
    "!python3 -m pip install pycryptodome"
   ]
  },
  {
   "cell_type": "markdown",
   "id": "d184e060",
   "metadata": {},
   "source": [
    "## Proof of work Hashcat\n",
    "\n",
    "Vamos a programar una \"Proof of work\" (*pow*) muy sencilla inspirada en [Hashcat](https://en.wikipedia.org/wiki/Hashcash), la misma tecnología utilizada por bitcoin: \"encuentra un número tal que al juntarlo a un texto y calcular su hash, el hash empiece por un número determinado de ceros\".\n",
    "\n",
    "La idea es que no se aceptará un correo electrónico, nuevo bloque bitcoin... lo que sea, si el emisor no incluye una \"proof of work\" junto con el mensaje. Es decir, que pruebe que ha estado X minutos buscando el contador que resulte en un hash correcto. De esta manera se limita el número de mensajes por minuto que puede emitir una persona. Fíjate que encontrar el contador es un proceso costoso, pero comprobar que el contador es correcto es muy rápido: solo tienes que calcular el hash y mirar si empieza con el número correcto de ceros.\n",
    "\n",
    "Supongamos que el día 2023-01-02 a las 17:35 queremos enviar un mensaje a employee@mail.com. Para evitar spam, al sistema quiere asegurarse de que solo enviaremos un correo cada minuto, por ejemplo, y para eso estima que tiene que obligarnos a un esfuerzo \"5\". Para esto, necesitamos crear una \"proof of work\" que tiene el siguiente aspecto: `2301021735:employee@mail.com:CONTADOR`. El `CONTADOR` es lo que tenemos que encontrar: debemos probar contadores al azar hasta que los 5 primeros bytes (el esfuerzo) del hash SHA-256 sean 0\n",
    "\n",
    "Una propuesta de función sería así:\n"
   ]
  },
  {
   "cell_type": "code",
   "execution_count": null,
   "id": "7ae589cf",
   "metadata": {},
   "outputs": [],
   "source": [
    "from Crypto.Hash import SHA256\n",
    "import time\n",
    "\n",
    "def proof_of_work(msg, effort):\n",
    "    start = time.time()\n",
    "    test = '0' * effort\n",
    "    ctr = 0\n",
    "    blk = f'{msg}:{ctr}'.encode()\n",
    "    h = SHA256.new(data=blk).hexdigest()\n",
    "    while not h[:effort] == test:\n",
    "        ctr += 1\n",
    "        blk = f'{msg}:{ctr}'.encode()\n",
    "        h = SHA256.new(data=blk).hexdigest()\n",
    "    seconds = time.time() - start\n",
    "    return dict(proof=blk, hash=h, seconds=seconds)"
   ]
  },
  {
   "cell_type": "markdown",
   "id": "24afbe6b",
   "metadata": {},
   "source": [
    "Y vamos a probar con tres esfuerzos diferentes: que el hash `301021735:employee@mail.com:CONTADOR` empiece por 1, 4 ó 5 ceros. Esto es lo que se llama \"minar\" en bitcoin."
   ]
  },
  {
   "cell_type": "code",
   "execution_count": null,
   "id": "50f7e13f",
   "metadata": {},
   "outputs": [],
   "source": [
    "msg = \"2301021735:employee@mail.com\"\n",
    "\n",
    "print(proof_of_work(msg, effort=1))\n",
    "print(proof_of_work(msg, effort=4))\n",
    "print(proof_of_work(msg, effort=5))"
   ]
  },
  {
   "cell_type": "markdown",
   "id": "cc1607f1-f917-4a2d-8f13-a6bf1441905c",
   "metadata": {},
   "source": [
    "Fíjate, en el último caso, calcular el contador le lleva medio minuto aproximadamente, pero probar que el contador es correcto es muy rápido. El servidor de correo no aceptará ningún correo si el emisor no ha calculado el contador. En cambio, comprobar si el emisor ha esperado esos segundos es algo rápido. Esta es la base de bitcoin: minar es lento, comprobar si el minado fue correcto es rápido."
   ]
  },
  {
   "cell_type": "code",
   "execution_count": null,
   "id": "d90a2492-e6de-493f-b703-0bf1dd089948",
   "metadata": {},
   "outputs": [],
   "source": [
    "SHA256.new(data=b\"2301021735:employee@mail.com:1300743\").hexdigest()[0:5] == '00000'"
   ]
  },
  {
   "cell_type": "markdown",
   "id": "633805b6-90be-48fa-a8a5-fc54b0cb06d8",
   "metadata": {},
   "source": [
    "## Transacciones en bitcoin\n",
    "\n",
    "Una transacción en bitcoin incluye: (1) el identificador de la cartera que envía bitcoin, (2) el identificador de la cartera que los recibe, (3) la cantidad, (4) lo que se paga a los validadores, (5) la hora y (6) la firma digital de la persona que envía el dinero.\n",
    "\n",
    "![](images/transaction.png)\n",
    "\n",
    "Aquí vamos a usar identificadores de cartera cortos y aleatorios. En realidad, el identificador de una cartera se crea a partir de la clave pública e incluye códigos de corrección de errores. Mira más detalles aquí: https://unchained.com/blog/bitcoin-address-types-compared/\n",
    "\n",
    "Vamos a crear un par de claves público y privada y una función que crea la descripción de una transferencia de nuestra cartera a otra cartera inventada\n",
    "\n"
   ]
  },
  {
   "cell_type": "code",
   "execution_count": null,
   "id": "aefdc212-489d-4675-8bf3-227784d8c999",
   "metadata": {},
   "outputs": [],
   "source": [
    "# Clave de 2048 bits\n",
    "from Crypto.PublicKey import RSA\n",
    "from Crypto.Signature import pkcs1_15\n",
    "from base64 import b64encode\n",
    "import json\n",
    "from pprint import pprint\n",
    "\n",
    "key = RSA.generate(1024)\n",
    "mywallet = 'yNTNjNTBmYjg0YjQ3YTc2NzIxM2MxMjVjMj'\n",
    "remote_wallet = 'MHhhZmViYzBlOGJkMTBlNzk5ZjI4NDI'\n",
    "\n",
    "def transaction(key, mywallet, remote_wallet, amount, fee):\n",
    "    info = dict(\n",
    "        from_wallet = mywallet,\n",
    "        to_wallet = remote_wallet,\n",
    "        now = time.time(),\n",
    "        amount=amount,\n",
    "        fee=fee\n",
    "    )\n",
    "    signer = pkcs1_15.new(key)\n",
    "    signature = b64encode(signer.sign(SHA256.new(data=json.dumps(info).encode()))).decode()\n",
    "    return(dict(info=info, signature=signature))\n",
    "\n",
    "\n",
    "pprint(transaction(key, mywallet, remote_wallet, 1, 0.1))"
   ]
  },
  {
   "cell_type": "markdown",
   "id": "89a99106-a8a9-4d9a-85d4-2dd2558aa501",
   "metadata": {},
   "source": [
    "Este un ejemplo de una transacción real: https://blockchair.com/bitcoin/transaction/2749eaf2edc56b684c5f5e94ce6ca764cb82a2a3978033c36fffd8950275583a\n",
    "\n",
    "Cuando necesitas hacer una transacción, creas una estructura de datos como esta y se la envías a un verificador/minero, que comprueba que la firma es correcta y que tienes fondos suficientes para realizar la transacción. Si todo va bien, se añade al pool de transacciones disponibles para crear un nuevo bloque."
   ]
  },
  {
   "cell_type": "markdown",
   "id": "c8d5527b-c6f9-4bdd-bf00-87c237ccc3d2",
   "metadata": {},
   "source": [
    "## Bloques de bitcoin\n",
    "\n",
    "Cuando un minero necesita crear un nuevo bloque: toma algunas de las transacciones que están esperando (si quieres que priorice la tuya... ¡págale más!) y las junta en un nuevo bloque\n",
    "\n",
    "El nuevo bloque incluye:\n",
    "\n",
    "- el hash del bloque anterior\n",
    "- un conjunto de transacciones que están por meterse en un bloque\n",
    "- la prueba de trabajo, usando un algoritmo similar a hashcat que veíamos antes. El esfuerzo de esta prueba de trabajo ha sido definido por todos los mineros de la red antes de ponerse a crear bloques.\n",
    "\n",
    "![](images/blockchain.png)\n",
    "\n",
    "Vamos a crear algunas transacciones y con ellas un nuevo bloque, usando un hash inventado como \"el hash del bloque anterior\""
   ]
  },
  {
   "cell_type": "code",
   "execution_count": null,
   "id": "6c0969c0-ffb2-4a0f-b36a-e9c979bff489",
   "metadata": {},
   "outputs": [],
   "source": [
    "transactions = [\n",
    "    transaction(key, mywallet, remote_wallet, 0.5, 0.1),\n",
    "    transaction(key, mywallet, remote_wallet, 0.2, 0.1),\n",
    "    transaction(key, mywallet, remote_wallet, 0.5, 0.1),\n",
    "]\n",
    "last_block_hash = '4145ba9c5ca6c55434c05ec080f07725fb282019e06ad127868f8954c1d6ad8'\n",
    "effort = 5\n",
    "\n",
    "block = dict(transactions=transactions, last_block_hash=last_block_hash)\n",
    "proof = proof_of_work(json.dumps(block).encode(), effort)\n",
    "\n",
    "pprint(proof)"
   ]
  },
  {
   "cell_type": "markdown",
   "id": "3fc8b118-dc3e-46a2-813c-71fc8c04d263",
   "metadata": {},
   "source": [
    "Esto es lo que se llama minar un bloque. El primer minero que encuentra el contador, envía el bloque al mundo y empieza el proceso de nuevo\n",
    "\n",
    "Mira un bloque real aquí: https://blockchair.com/bitcoin/block/798267"
   ]
  },
  {
   "cell_type": "markdown",
   "id": "63a5728f-49d0-45f9-8ea6-a5cf2acadc57",
   "metadata": {},
   "source": [
    "## Mecanismo de consenso\n",
    "\n",
    "Cuando un bloque se acepta por los mineros, el siguiente bloque se creará incluyendo el valor de hash del antiguo. Así, los bloques están enlazados a través de sus valores de hash. Un bloque que ya esté en la blockchain no puede cambiar: cambiaría su hash, y el hash de todos los bloques que se metieron en la cadena después de él. Por eso, la importancia de la blockchain radica en que todos los mineros estén de acuerdo en qué bloques están dentro de la cadena ahora mismo.\n",
    "\n",
    "Un bloque podría ser encontrado por varios mineros a la vez. Cuando un minero encuentra un nuevo bloque, lo envía al mundo y el resto de mineros puede aceptarlo o no. En realidad, es posible que mineros diferentes tengan opiniones diferentes sobre quién encontró primero un bloque, así que se inicia un sistema de consenso para decidir cuando la red encuentra este tipo de problemas y qué bloque es el siguiente que se tiene que meter en la cadena.\n",
    "\n",
    "![](images/consensus.png)\n",
    "\n",
    "El consenso es sencillo: si hay opiniones diferentes, se aceptan los bloques que más mineros hayan incorporado a su propia cadena. Puedes encontrar más información aquí https://en.bitcoin.it/wiki/Consensus o aquí https://notepub.io/notes/blockchain-technology/bitcoin/bitcoin-consensus-in-bitcoin/"
   ]
  },
  {
   "cell_type": "markdown",
   "id": "46616d9a-f605-4b23-8941-f3df7b5fb846",
   "metadata": {},
   "source": [
    "## Cómo seguir\n",
    "\n",
    "En este ejercicio hemos visto una simplificación de cómo funcione bitcoin. La implementación real tiene centenares de detalles adicionales. Por ejemplo: ¿cómo sabe alguien cuaĺ es el balance de una cartera? ¿cómo se evita gastar dos veces el mismo bitcoin?\n",
    "\n",
    "Todos estos mecanismos ya no son criptográficos sino operativos. Para saber más, te animo a consultar:\n",
    "\n",
    "- Cálculo del balance de una cartera: https://bitcoin.stackexchange.com/questions/22997/how-is-a-wallets-balance-computed\n",
    "- Explicación de cómo funciona bitcoin: https://www.youtube.com/watch?v=bBC-nXj3Ng4\n",
    "- Explicación alternativa: https://www.youtube.com/watch?v=Lx9zgZCMqXE\n"
   ]
  }
 ],
 "metadata": {
  "kernelspec": {
   "display_name": "Python 3 (ipykernel)",
   "language": "python",
   "name": "python3"
  },
  "language_info": {
   "codemirror_mode": {
    "name": "ipython",
    "version": 3
   },
   "file_extension": ".py",
   "mimetype": "text/x-python",
   "name": "python",
   "nbconvert_exporter": "python",
   "pygments_lexer": "ipython3",
   "version": "3.10.5"
  }
 },
 "nbformat": 4,
 "nbformat_minor": 5
}
